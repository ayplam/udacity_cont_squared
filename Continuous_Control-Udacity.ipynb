{
 "cells": [
  {
   "cell_type": "markdown",
   "metadata": {},
   "source": [
    "# Continuous Control\n",
    "\n",
    "---\n",
    "\n",
    "You are welcome to use this coding environment to train your agent for the project.  Follow the instructions below to get started!\n",
    "\n",
    "### 1. Start the Environment\n",
    "\n",
    "Run the next code cell to install a few packages.  This line will take a few minutes to run!"
   ]
  },
  {
   "cell_type": "code",
   "execution_count": 1,
   "metadata": {},
   "outputs": [
    {
     "name": "stderr",
     "output_type": "stream",
     "text": [
      "INFO:unityagents:\n",
      "'Academy' started successfully!\n",
      "Unity Academy name: Academy\n",
      "        Number of Brains: 1\n",
      "        Number of External Brains : 1\n",
      "        Lesson number : 0\n",
      "        Reset Parameters :\n",
      "\t\tgoal_speed -> 1.0\n",
      "\t\tgoal_size -> 5.0\n",
      "Unity brain name: ReacherBrain\n",
      "        Number of Visual Observations (per agent): 0\n",
      "        Vector Observation space type: continuous\n",
      "        Vector Observation space size (per agent): 33\n",
      "        Number of stacked Vector Observation: 1\n",
      "        Vector Action space type: continuous\n",
      "        Vector Action space size (per agent): 4\n",
      "        Vector Action descriptions: , , , \n"
     ]
    }
   ],
   "source": [
    "from unityagents import UnityEnvironment\n",
    "import numpy as np\n",
    "\n",
    "# Point this to where you have downloaded the reacher app\n",
    "env = UnityEnvironment(file_name='YOUR_REACHER_APP')"
   ]
  },
  {
   "cell_type": "markdown",
   "metadata": {},
   "source": [
    "Environments contain **_brains_** which are responsible for deciding the actions of their associated agents. Here we check for the first brain available, and set it as the default brain we will be controlling from Python."
   ]
  },
  {
   "cell_type": "code",
   "execution_count": 2,
   "metadata": {},
   "outputs": [],
   "source": [
    "# get the default brain\n",
    "brain_name = env.brain_names[0]\n",
    "brain = env.brains[brain_name]"
   ]
  },
  {
   "cell_type": "markdown",
   "metadata": {},
   "source": [
    "### 2. Examine the State and Action Spaces\n",
    "\n",
    "Run the code cell below to print some information about the environment."
   ]
  },
  {
   "cell_type": "code",
   "execution_count": 3,
   "metadata": {},
   "outputs": [
    {
     "name": "stdout",
     "output_type": "stream",
     "text": [
      "Number of agents: 20\n",
      "Size of each action: 4\n",
      "There are 20 agents. Each observes a state with length: 33\n",
      "The state for the first agent looks like: [ 0.00000000e+00 -4.00000000e+00  0.00000000e+00  1.00000000e+00\n",
      " -0.00000000e+00 -0.00000000e+00 -4.37113883e-08  0.00000000e+00\n",
      "  0.00000000e+00  0.00000000e+00  0.00000000e+00  0.00000000e+00\n",
      "  0.00000000e+00  0.00000000e+00 -1.00000000e+01  0.00000000e+00\n",
      "  1.00000000e+00 -0.00000000e+00 -0.00000000e+00 -4.37113883e-08\n",
      "  0.00000000e+00  0.00000000e+00  0.00000000e+00  0.00000000e+00\n",
      "  0.00000000e+00  0.00000000e+00  5.75471878e+00 -1.00000000e+00\n",
      "  5.55726624e+00  0.00000000e+00  1.00000000e+00  0.00000000e+00\n",
      " -1.68164849e-01]\n"
     ]
    }
   ],
   "source": [
    "# reset the environment\n",
    "env_info = env.reset(train_mode=False)[brain_name]\n",
    "\n",
    "# number of agents\n",
    "num_agents = len(env_info.agents)\n",
    "print('Number of agents:', num_agents)\n",
    "\n",
    "# size of each action\n",
    "action_size = brain.vector_action_space_size\n",
    "print('Size of each action:', action_size)\n",
    "\n",
    "# examine the state space \n",
    "states = env_info.vector_observations\n",
    "state_size = states.shape[1]\n",
    "print('There are {} agents. Each observes a state with length: {}'.format(states.shape[0], state_size))\n",
    "print('The state for the first agent looks like:', states[0])"
   ]
  },
  {
   "cell_type": "markdown",
   "metadata": {},
   "source": [
    "### 3. Take Random Actions in the Environment\n",
    "\n",
    "In the next code cell, you will learn how to use the Python API to control the agent and receive feedback from the environment.\n",
    "\n",
    "Note that **in this coding environment, you will not be able to watch the agents while they are training**, and you should set `train_mode=True` to restart the environment."
   ]
  },
  {
   "cell_type": "code",
   "execution_count": 4,
   "metadata": {},
   "outputs": [],
   "source": [
    "from collections import deque\n",
    "from tqdm import tqdm\n",
    "import torch\n",
    "import json\n",
    "from datetime import datetime\n",
    "from agent import *\n",
    "\n",
    "agent = Agent(state_size=state_size, action_size=action_size, random_seed=2)\n",
    "\n",
    "\n",
    "## To keep track of experiments\n",
    "def append_to_file(text, filename):\n",
    "    with open(filename, \"a\") as f:\n",
    "        f.write(text + \"\\n\")\n",
    "        \n",
    "def write_json(dd, filename):\n",
    "    with open(filename, \"w\") as f:\n",
    "        json.dump(dd, f, indent=4)\n",
    "        \n",
    "def ddpg(n_episodes=300, max_t=10000, learn_every=20, learn_steps=10, print_every=20, solved_rewards_threshold=30):\n",
    "    \n",
    "    start_time = str(datetime.now())\n",
    "    best_score = -1\n",
    "\n",
    "    hypes = {\n",
    "        \"BUFFER_SIZE\":BUFFER_SIZE,\n",
    "        \"BATCH_SIZE\":BATCH_SIZE,\n",
    "        \"GAMMA\":GAMMA,\n",
    "        \"TAU\":TAU,\n",
    "        \"LR_ACTOR\": LR_ACTOR,\n",
    "        \"LR_CRITIC\": LR_CRITIC,\n",
    "        \"WEIGHT_DECAY\":WEIGHT_DECAY,\n",
    "        \"ACTOR\": str(agent.actor_local).split(\"\\n\"),\n",
    "        \"CRITIC\": str(agent.critic_local).split(\"\\n\")\n",
    "    }\n",
    "\n",
    "    write_json(hypes, start_time + \" HYPES.json\")\n",
    "        \n",
    "    # The goal is to get an average of > 30 on the last 100 scores\n",
    "    # However, due to the volatile nature of DDPGs and how rapidly the agent \n",
    "    # can be updated, let's average over the last 5 scores to see if \n",
    "    # the agent can solve the environment\n",
    "    local_scores_deque = deque(maxlen=5)\n",
    "\n",
    "    scores_deque = deque(maxlen=100)\n",
    "    scores = []\n",
    "    avg_scores = []\n",
    "    for i_episode in tqdm(range(1, n_episodes+1)):\n",
    "        # Reset env and agent\n",
    "        env_info = env.reset(train_mode=True)[brain_name]\n",
    "        agent.reset()\n",
    "        score = np.zeros(num_agents)\n",
    "        \n",
    "        for t in range(max_t):\n",
    "            # Get the SARS tuple\n",
    "            states = env_info.vector_observations\n",
    "            actions = agent.act(states)\n",
    "            env_info = env.step(actions)[brain_name]\n",
    "            next_states = env_info.vector_observations\n",
    "            rewards = env_info.rewards\n",
    "            # Don't think \"done\" really applies to this task because it's not episodic\n",
    "            # But just in case\n",
    "            dones = env_info.local_done\n",
    "            if np.any(dones):\n",
    "                break\n",
    "                \n",
    "            # Add it to the agent. This will add to replay buffer + learn\n",
    "            # This just builds up TONS of experience pretty quickly\n",
    "            for s,a,r,n,d in zip(states, actions, rewards, next_states, dones):\n",
    "                agent.add_experiences(s,a,r,n,d)\n",
    "            \n",
    "            # Since the experience is being built up pretty fast\n",
    "            # 20 x 20 = 400 new experiences before learning some stuff\n",
    "            if t % learn_every == 0:\n",
    "                for _ in range(learn_steps):\n",
    "                    agent.learn()\n",
    "            \n",
    "            # This helps keep track of the current episode's reward\n",
    "            score += env_info.rewards\n",
    "\n",
    "        avg_score = np.mean(score)\n",
    "        local_scores_deque.append(avg_score)\n",
    "        scores_deque.append(avg_score)\n",
    "        scores.append(avg_score)\n",
    "        \n",
    "        score_mean_tuple = (scores[-1], np.mean(scores_deque))\n",
    "        append_to_file(str(score_mean_tuple), start_time + \" RUN.txt\")        \n",
    "        \n",
    "        avg_scores.append(np.mean(scores_deque))\n",
    "        \n",
    "        \n",
    "        if np.mean(scores_deque) > solved_rewards_threshold:\n",
    "            print(\"The environment has been solved. Saving checkpoints\")\n",
    "            torch.save(agent.actor_local.state_dict(), 'checkpoint_actor_final.pth')\n",
    "            torch.save(agent.critic_local.state_dict(), 'checkpoint_critic_final.pth')\n",
    "            break\n",
    "        elif np.mean(local_scores_deque) > solved_rewards_threshold+1:\n",
    "            # Giving a little bit of wiggle room for error. Shouldn't need that much wiggle room\n",
    "            # because it's already average scores over 20 agents\n",
    "            tqdm.write(\"Local scores has surpassed threshold. Has the environment been solved?\")\n",
    "            check_scores = check_env_solved(env, agent)\n",
    "            if np.mean(check_scores) > solved_rewards_threshold:\n",
    "                tqdm.write(\"Environment has been solved!\")\n",
    "                torch.save(agent.actor_local.state_dict(), 'checkpoint_actor_final.pth')\n",
    "                torch.save(agent.critic_local.state_dict(), 'checkpoint_critic_final.pth')\n",
    "                scores = check_scores\n",
    "                break\n",
    "            else:\n",
    "                tqdm.write(\"Environment has not been solved. Continuing training...\")\n",
    "                \n",
    "        if i_episode % print_every == 0:                \n",
    "            tqdm.write('Episode {}\\tAverage Score: {:.2f}'.format(i_episode, np.mean(scores_deque)))\n",
    "            if avg_scores[-1] > best_score:\n",
    "                tqdm.write(\"Best score has exceeded last average score {:.2f} vs {:.2f}\".format(best_score, avg_scores[-1]))\n",
    "                best_score = avg_scores[-1]\n",
    "                torch.save(agent.actor_local.state_dict(), 'checkpoint_actor.pth')\n",
    "                torch.save(agent.critic_local.state_dict(), 'checkpoint_critic.pth')\n",
    "\n",
    "    return scores\n",
    "\n",
    "def check_env_solved(env, agent, num_episodes = 100, scores_thresholds = 30):\n",
    "\n",
    "    env_info = env.reset(train_mode=True)[brain_name]\n",
    "    agent.reset()\n",
    "    scores_deque = deque(maxlen=100)\n",
    "    \n",
    "    for _ in range(num_episodes):\n",
    "        score = np.zeros(num_agents)\n",
    "        while True:\n",
    "            # Keep acting until the env is done\n",
    "            states = env_info.vector_observations\n",
    "            actions = agent.act(states, add_noise=False)\n",
    "            env_info = env.step(actions)[brain_name]\n",
    "            next_states = env_info.vector_observations\n",
    "            score += env_info.rewards\n",
    "            dones = env_info.local_done\n",
    "            if np.any(dones):\n",
    "                break\n",
    "\n",
    "        scores_deque.append(np.mean(score))\n",
    "        \n",
    "    return scores_deque\n",
    "    "
   ]
  },
  {
   "cell_type": "code",
   "execution_count": 5,
   "metadata": {},
   "outputs": [
    {
     "name": "stderr",
     "output_type": "stream",
     "text": [
      "  0%|          | 0/1000 [00:00<?, ?it/s]/Users/adlam/udacity/p2_proj/solved/agent.py:113: UserWarning: torch.nn.utils.clip_grad_norm is now deprecated in favor of torch.nn.utils.clip_grad_norm_.\n",
      "  torch.nn.utils.clip_grad_norm(self.critic_local.parameters(), 1)\n",
      "  2%|▏         | 20/1000 [03:20<2:53:03, 10.60s/it]"
     ]
    },
    {
     "name": "stdout",
     "output_type": "stream",
     "text": [
      "Episode 20\tAverage Score: 0.34\n",
      "Best score has exceeded last average score -1.00 vs 0.34\n"
     ]
    },
    {
     "name": "stderr",
     "output_type": "stream",
     "text": [
      "  4%|▍         | 40/1000 [07:28<3:22:37, 12.66s/it]"
     ]
    },
    {
     "name": "stdout",
     "output_type": "stream",
     "text": [
      "Episode 40\tAverage Score: 0.65\n",
      "Best score has exceeded last average score 0.34 vs 0.65\n"
     ]
    },
    {
     "name": "stderr",
     "output_type": "stream",
     "text": [
      "  6%|▌         | 60/1000 [12:04<3:39:24, 14.00s/it]"
     ]
    },
    {
     "name": "stdout",
     "output_type": "stream",
     "text": [
      "Episode 60\tAverage Score: 1.34\n",
      "Best score has exceeded last average score 0.65 vs 1.34\n"
     ]
    },
    {
     "name": "stderr",
     "output_type": "stream",
     "text": [
      "  8%|▊         | 80/1000 [16:43<3:34:31, 13.99s/it]"
     ]
    },
    {
     "name": "stdout",
     "output_type": "stream",
     "text": [
      "Episode 80\tAverage Score: 2.31\n",
      "Best score has exceeded last average score 1.34 vs 2.31\n"
     ]
    },
    {
     "name": "stderr",
     "output_type": "stream",
     "text": [
      " 10%|█         | 100/1000 [21:23<3:30:17, 14.02s/it]"
     ]
    },
    {
     "name": "stdout",
     "output_type": "stream",
     "text": [
      "Episode 100\tAverage Score: 3.12\n",
      "Best score has exceeded last average score 2.31 vs 3.12\n"
     ]
    },
    {
     "name": "stderr",
     "output_type": "stream",
     "text": [
      " 12%|█▏        | 120/1000 [26:05<3:25:06, 13.98s/it]"
     ]
    },
    {
     "name": "stdout",
     "output_type": "stream",
     "text": [
      "Episode 120\tAverage Score: 4.87\n",
      "Best score has exceeded last average score 3.12 vs 4.87\n"
     ]
    },
    {
     "name": "stderr",
     "output_type": "stream",
     "text": [
      " 14%|█▍        | 140/1000 [30:46<3:25:02, 14.31s/it]"
     ]
    },
    {
     "name": "stdout",
     "output_type": "stream",
     "text": [
      "Episode 140\tAverage Score: 6.93\n",
      "Best score has exceeded last average score 4.87 vs 6.93\n"
     ]
    },
    {
     "name": "stderr",
     "output_type": "stream",
     "text": [
      " 16%|█▌        | 160/1000 [35:28<3:17:58, 14.14s/it]"
     ]
    },
    {
     "name": "stdout",
     "output_type": "stream",
     "text": [
      "Episode 160\tAverage Score: 9.13\n",
      "Best score has exceeded last average score 6.93 vs 9.13\n"
     ]
    },
    {
     "name": "stderr",
     "output_type": "stream",
     "text": [
      " 18%|█▊        | 180/1000 [40:11<3:12:27, 14.08s/it]"
     ]
    },
    {
     "name": "stdout",
     "output_type": "stream",
     "text": [
      "Episode 180\tAverage Score: 11.36\n",
      "Best score has exceeded last average score 9.13 vs 11.36\n"
     ]
    },
    {
     "name": "stderr",
     "output_type": "stream",
     "text": [
      " 20%|██        | 200/1000 [44:55<3:08:01, 14.10s/it]"
     ]
    },
    {
     "name": "stdout",
     "output_type": "stream",
     "text": [
      "Episode 200\tAverage Score: 14.45\n",
      "Best score has exceeded last average score 11.36 vs 14.45\n"
     ]
    },
    {
     "name": "stderr",
     "output_type": "stream",
     "text": [
      " 22%|██▏       | 220/1000 [49:37<3:04:18, 14.18s/it]"
     ]
    },
    {
     "name": "stdout",
     "output_type": "stream",
     "text": [
      "Episode 220\tAverage Score: 17.61\n",
      "Best score has exceeded last average score 14.45 vs 17.61\n"
     ]
    },
    {
     "name": "stderr",
     "output_type": "stream",
     "text": [
      " 23%|██▎       | 228/1000 [51:45<3:02:39, 14.20s/it]"
     ]
    },
    {
     "name": "stdout",
     "output_type": "stream",
     "text": [
      "Local scores has surpassed threshold. Has the environment been solved?\n"
     ]
    },
    {
     "name": "stderr",
     "output_type": "stream",
     "text": [
      " 23%|██▎       | 228/1000 [58:11<3:02:39, 14.20s/it]"
     ]
    },
    {
     "name": "stdout",
     "output_type": "stream",
     "text": [
      "Environment has been solved!\n"
     ]
    }
   ],
   "source": [
    "final_scores = ddpg(1000)"
   ]
  },
  {
   "cell_type": "markdown",
   "metadata": {},
   "source": [
    "When finished, you can close the environment."
   ]
  },
  {
   "cell_type": "markdown",
   "metadata": {},
   "source": [
    "## Watch your agent!"
   ]
  },
  {
   "cell_type": "code",
   "execution_count": 74,
   "metadata": {},
   "outputs": [
    {
     "name": "stderr",
     "output_type": "stream",
     "text": [
      "INFO:unityagents:\n",
      "'Academy' started successfully!\n",
      "Unity Academy name: Academy\n",
      "        Number of Brains: 1\n",
      "        Number of External Brains : 1\n",
      "        Lesson number : 0\n",
      "        Reset Parameters :\n",
      "\t\tgoal_size -> 5.0\n",
      "\t\tgoal_speed -> 1.0\n",
      "Unity brain name: ReacherBrain\n",
      "        Number of Visual Observations (per agent): 0\n",
      "        Vector Observation space type: continuous\n",
      "        Vector Observation space size (per agent): 33\n",
      "        Number of stacked Vector Observation: 1\n",
      "        Vector Action space type: continuous\n",
      "        Vector Action space size (per agent): 4\n",
      "        Vector Action descriptions: , , , \n"
     ]
    },
    {
     "name": "stdout",
     "output_type": "stream",
     "text": [
      "Number of agents: 20\n",
      "Size of each action: 4\n",
      "There are 20 agents. Each observes a state with length: 33\n",
      "The state for the first agent looks like: [ 0.00000000e+00 -4.00000000e+00  0.00000000e+00  1.00000000e+00\n",
      " -0.00000000e+00 -0.00000000e+00 -4.37113883e-08  0.00000000e+00\n",
      "  0.00000000e+00  0.00000000e+00  0.00000000e+00  0.00000000e+00\n",
      "  0.00000000e+00  0.00000000e+00 -1.00000000e+01  0.00000000e+00\n",
      "  1.00000000e+00 -0.00000000e+00 -0.00000000e+00 -4.37113883e-08\n",
      "  0.00000000e+00  0.00000000e+00  0.00000000e+00  0.00000000e+00\n",
      "  0.00000000e+00  0.00000000e+00  5.75471878e+00 -1.00000000e+00\n",
      "  5.55726624e+00  0.00000000e+00  1.00000000e+00  0.00000000e+00\n",
      " -1.68164849e-01]\n"
     ]
    }
   ],
   "source": [
    "from unityagents import UnityEnvironment\n",
    "import numpy as np\n",
    "\n",
    "# select this option to load version 1 (with a single agent) of the environment\n",
    "env = UnityEnvironment(file_name='../Reacher 2.app')\n",
    "# get the default brain\n",
    "brain_name = env.brain_names[0]\n",
    "brain = env.brains[brain_name]\n",
    "# reset the environment\n",
    "env_info = env.reset(train_mode=False)[brain_name]\n",
    "\n",
    "# number of agents\n",
    "num_agents = len(env_info.agents)\n",
    "print('Number of agents:', num_agents)\n",
    "\n",
    "# size of each action\n",
    "action_size = brain.vector_action_space_size\n",
    "print('Size of each action:', action_size)\n",
    "\n",
    "# examine the state space \n",
    "states = env_info.vector_observations\n",
    "state_size = states.shape[1]\n",
    "print('There are {} agents. Each observes a state with length: {}'.format(states.shape[0], state_size))\n",
    "print('The state for the first agent looks like:', states[0])"
   ]
  },
  {
   "cell_type": "markdown",
   "metadata": {},
   "source": [
    "### Watch your agent"
   ]
  },
  {
   "cell_type": "code",
   "execution_count": 85,
   "metadata": {
    "scrolled": false
   },
   "outputs": [
    {
     "name": "stdout",
     "output_type": "stream",
     "text": [
      "[39.16999912 39.14999912 39.52999912 27.82999938 35.27999921 39.43999912\n",
      " 37.11999917 39.20999912 38.31999914 36.51999918 39.27999912 37.37999916\n",
      " 25.39999943 36.92999917 38.18999915 33.37999925 39.56999912 33.19999926\n",
      " 37.90999915 36.60999918]\n",
      "36.47099918480963\n"
     ]
    }
   ],
   "source": [
    "from agent import Agent\n",
    "from collections import deque\n",
    "from tqdm import tqdm\n",
    "import torch\n",
    "import json\n",
    "from datetime import datetime\n",
    "import time\n",
    "\n",
    "agent = Agent(state_size=state_size, action_size=action_size, random_seed=2)\n",
    "\n",
    "agent.actor_local.load_state_dict(torch.load('checkpoint_actor_final.pth'))\n",
    "agent.critic_local.load_state_dict(torch.load('checkpoint_critic_final.pth'))\n",
    "agent.reset()\n",
    "\n",
    "\n",
    "for _ in range(1):\n",
    "    env_info = env.reset(train_mode=False)[brain_name]     # reset the environment    \n",
    "    states = env_info.vector_observations                  # get the current state (for each agent)\n",
    "    agent.reset()\n",
    "\n",
    "    score = np.zeros(num_agents)\n",
    "    while True:\n",
    "        # Keep acting until the env is done\n",
    "        states = env_info.vector_observations\n",
    "        actions = agent.act(states, add_noise=False)\n",
    "        env_info = env.step(actions)[brain_name]\n",
    "        next_states = env_info.vector_observations\n",
    "        score += env_info.rewards\n",
    "        dones = env_info.local_done\n",
    "        if np.any(dones):\n",
    "            break\n",
    "    \n",
    "    print(score)\n",
    "    print(np.mean(score))\n"
   ]
  },
  {
   "cell_type": "markdown",
   "metadata": {},
   "source": [
    "### Plot some rewards "
   ]
  },
  {
   "cell_type": "code",
   "execution_count": 101,
   "metadata": {},
   "outputs": [],
   "source": [
    "def make_reward_graph(filename):\n",
    "    scores = []\n",
    "    with open(filename, \"r\") as fh:\n",
    "        line = fh.readline()\n",
    "        while line:\n",
    "            curr_reward = float(line[1:-1].split(\",\")[0])\n",
    "            scores.append(curr_reward)\n",
    "            line = fh.readline()\n",
    "\n",
    "    last_100_avg = []\n",
    "    last_5_avg = []\n",
    "    for win in window(scores, 5):\n",
    "        last_5_avg.append(np.mean(win))\n",
    "\n",
    "    for win in window(scores, 100):\n",
    "        last_100_avg.append(np.mean(win))    \n",
    "\n",
    "    plt.figure(figsize=(15,7.5))           \n",
    "    plt.plot(scores)\n",
    "    plt.plot(range(5, len(last_5_avg)+5), last_5_avg)\n",
    "    plt.plot(range(100, len(last_100_avg)+100), last_100_avg)\n",
    "    plt.xlabel(\"Number of Episodes\")\n",
    "    plt.ylabel(\"Rewards\")\n",
    "    plt.title(\"Rewards over Time\")\n",
    "    plt.legend([\"Current Score\", \"Last 5 Avg Score\", \"Last 100 Avg Score\"])\n",
    "    plt.grid()     "
   ]
  },
  {
   "cell_type": "code",
   "execution_count": 104,
   "metadata": {},
   "outputs": [
    {
     "data": {
      "image/png": "[encoded data removed]",
      "text/plain": [
       "<Figure size 1080x540 with 1 Axes>"
      ]
     },
     "metadata": {
      "needs_background": "light"
     },
     "output_type": "display_data"
    }
   ],
   "source": [
    "import matplotlib.pyplot as plt\n",
    "from itertools import islice\n",
    "import numpy as np\n",
    "\n",
    "def window(seq, n=2):\n",
    "    \"Returns a sliding window (of width n) over data from the iterable\"\n",
    "    \"   s -> (s0,s1,...s[n-1]), (s1,s2,...,sn), ...                   \"\n",
    "    it = iter(seq)\n",
    "    result = tuple(islice(it, n))\n",
    "    if len(result) == n:\n",
    "        yield result\n",
    "    for elem in it:\n",
    "        result = result[1:] + (elem,)\n",
    "        yield result\n",
    "\n",
    "\n",
    "# Unstable success: ./scores/2018-12-08 20_53_32.250268 RUN.txt\n",
    "# Success: ./scores/2018-12-09 19:08:37.149953 RUN.txt\n",
    "# Failure: ./scores/2018-12-09 13:02:45.408948 RUN.txt\n",
    "# Failure but barely a success: ./scores/2018-12-08 18:00:36.618063 RUN.txt\n",
    "# Failure but technically a success: ./scores/2018-12-08 20:26:12.994283 RUN.txt\n",
    "make_reward_graph(\"./scores/2018-12-09 19:08:37.149953 RUN.txt\")\n",
    "plt.savefig('success.png')"
   ]
  },
  {
   "cell_type": "code",
   "execution_count": null,
   "metadata": {},
   "outputs": [],
   "source": []
  }
 ],
 "metadata": {
  "kernelspec": {
   "display_name": "udacity_deeprl",
   "language": "python",
   "name": "udacity"
  },
  "language_info": {
   "codemirror_mode": {
    "name": "ipython",
    "version": 3
   },
   "file_extension": ".py",
   "mimetype": "text/x-python",
   "name": "python",
   "nbconvert_exporter": "python",
   "pygments_lexer": "ipython3",
   "version": "3.6.7"
  }
 },
 "nbformat": 4,
 "nbformat_minor": 2
}
